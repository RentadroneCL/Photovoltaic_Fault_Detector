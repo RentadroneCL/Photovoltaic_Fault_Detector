{
 "cells": [
  {
   "cell_type": "code",
   "execution_count": 1,
   "metadata": {},
   "outputs": [],
   "source": [
    "# import the necessary packages\n",
    "from imutils import paths\n",
    "import numpy as np\n",
    "\n",
    "import pickle\n",
    "import cv2\n",
    "import os\n",
    "from sklearn.preprocessing import LabelEncoder\n",
    "from sklearn.svm import SVC\n",
    "from sklearn.neighbors import KNeighborsClassifier\n",
    "import time\n",
    "import tensorflow as tf\n",
    "\n",
    "\n",
    "from sklearn.metrics import classification_report,plot_confusion_matrix,confusion_matrix\n",
    "import matplotlib.pyplot as plt\n",
    "from sklearn.model_selection import train_test_split\n",
    "from tensorflow.keras.callbacks import ModelCheckpoint, EarlyStopping\n",
    "\n",
    "tf.keras.backend.clear_session()"
   ]
  },
  {
   "cell_type": "code",
   "execution_count": 4,
   "metadata": {},
   "outputs": [],
   "source": [
    "img_width, img_height = 224, 224\n",
    "#base_model = tf.keras.applications.MobileNetV2(input_shape=(img_width, img_height, 3), weights='imagenet', include_top=False)\n",
    "#img_width, img_height =  \n",
    "#base_model = tf.keras.applications.NASNetMobile(input_shape=(img_width, img_height, 3), weights='imagenet', include_top=False)\n",
    "base_model = tf.keras.applications.Xception(input_shape=(img_height, img_width, 3), weights='imagenet', include_top=False)\n",
    "\n",
    "x = base_model.output\n",
    "x  = tf.keras.layers.GlobalAveragePooling2D()(x)\n",
    "base_model = tf.keras.models.Model(inputs=base_model.input, outputs=x)\n",
    "\n",
    "#\n",
    "\n",
    "# Set the directory you want to start from\n",
    "#rootDir = '.'\n",
    "#for dirName, subdirList, fileList in os.walk(rootDir):\n",
    "#    print('Found directory: %s' % dirName)\n",
    "#    for fname in fileList:\n",
    "#        print('\\t%s' % fname)\n",
    "\n",
    "path_dataset = './Data_set_2/Data_prueba_0/' "
   ]
  },
  {
   "cell_type": "code",
   "execution_count": 3,
   "metadata": {},
   "outputs": [
    {
     "name": "stdout",
     "output_type": "stream",
     "text": [
      "[INFO] serializing 7544 encodings...\n"
     ]
    }
   ],
   "source": [
    "\n",
    "embeddings_output = path_dataset + \"model_SVM/embeddings.pickle\"\n",
    "imagePaths = list(paths.list_images(path_dataset))\n",
    "# initialize our lists of extracted facial embeddings and\n",
    "# corresponding people names\n",
    "knownEmbeddings = []\n",
    "knownNames = []\n",
    "\n",
    "# initialize the total number of faces processed\n",
    "total = 0\n",
    "\n",
    "# loop over the image paths\n",
    "for (i, imagePath) in enumerate(imagePaths):\n",
    "    print(\"[INFO] processing image {}/{}\".format(i + 1,\n",
    "    len(imagePaths)), end ='\\r')\n",
    "    name = imagePath.split(os.path.sep)[-2]\n",
    "    Im = cv2.resize(cv2.imread(imagePath), (img_width, img_height))\n",
    "    for im in [Im, cv2.flip(Im, -1), cv2.flip(Im, 0), cv2.flip(Im, 1)]:  \n",
    "        vec = base_model.predict(tf.keras.backend.expand_dims(im,0))\n",
    "        # add the name of the person + corresponding face\n",
    "        # embedding to their respective lists\n",
    "        knownNames.append(name)\n",
    "        knownEmbeddings.append(vec.flatten())\n",
    "        total += 1\n",
    "        \n",
    "print(\"[INFO] serializing {} encodings...\".format(total))\n",
    "data = {\"embeddings\": knownEmbeddings, \"names\": knownNames}\n",
    "f = open(embeddings_output, \"wb\")\n",
    "f.write(pickle.dumps(data))\n",
    "f.close()           "
   ]
  },
  {
   "cell_type": "markdown",
   "metadata": {},
   "source": [
    "# Train SVM Classifier"
   ]
  },
  {
   "cell_type": "code",
   "execution_count": 7,
   "metadata": {},
   "outputs": [
    {
     "name": "stdout",
     "output_type": "stream",
     "text": [
      "[INFO] loading face embeddings...\n",
      "[INFO] encoding labels...\n",
      "[INFO] training model...\n",
      "Confusion matrix, without normalization\n",
      "[[1608   80]\n",
      " [  97 1987]]\n",
      "Normalized confusion matrix\n",
      "[[0.95260664 0.04739336]\n",
      " [0.04654511 0.95345489]]\n"
     ]
    },
    {
     "data": {
      "image/png": "[encoded data removed]",
      "text/plain": [
       "<Figure size 432x288 with 2 Axes>"
      ]
     },
     "metadata": {
      "needs_background": "light"
     },
     "output_type": "display_data"
    },
    {
     "data": {
      "image/png": "[encoded data removed]",
      "text/plain": [
       "<Figure size 432x288 with 2 Axes>"
      ]
     },
     "metadata": {
      "needs_background": "light"
     },
     "output_type": "display_data"
    },
    {
     "name": "stdout",
     "output_type": "stream",
     "text": [
      "Classification Report\n",
      "              precision    recall  f1-score   support\n",
      "\n",
      "    0-Normal       0.94      0.95      0.95      1688\n",
      "     1-Falla       0.96      0.95      0.96      2084\n",
      "\n",
      "    accuracy                           0.95      3772\n",
      "   macro avg       0.95      0.95      0.95      3772\n",
      "weighted avg       0.95      0.95      0.95      3772\n",
      "\n"
     ]
    }
   ],
   "source": [
    "output_recognizer = path_dataset + \"model_SVM/recognizer.pickle\"\n",
    "output_label = path_dataset + \"model_SVM/le.pickle\"\n",
    "embeddings_output = path_dataset + \"model_SVM/embeddings.pickle\"\n",
    "\n",
    "# load the face embeddings\n",
    "print(\"[INFO] loading face embeddings...\")\n",
    "data = pickle.loads(open(embeddings_output, \"rb\").read())\n",
    "# encode the labels\n",
    "print(\"[INFO] encoding labels...\")\n",
    "le = LabelEncoder()\n",
    "labels = le.fit_transform(data[\"names\"])\n",
    "\n",
    "X_train, X_test, y_train, y_test = train_test_split(data[\"embeddings\"], labels, random_state=0, test_size=0.5)\n",
    "\n",
    "# train the model used to accept the 128-d embeddings of the face and\n",
    "# then produce the actual face recognition\n",
    "print(\"[INFO] training model...\")\n",
    "classifier = SVC(C=2.0, kernel=\"linear\", probability=True, class_weight = 'balanced')\n",
    "classifier.fit(X_train, y_train)\n",
    "# write the actual face recognition model to disk\n",
    "f = open(output_recognizer, \"wb\")\n",
    "f.write(pickle.dumps(classifier))\n",
    "f.close()\n",
    "# write the label encoder to disk\n",
    "f = open(output_label, \"wb\")\n",
    "f.write(pickle.dumps(le))\n",
    "f.close()\n",
    "\n",
    "\n",
    "\n",
    "# Plot non-normalized confusion matrix\n",
    "titles_options = [(\"Confusion matrix, without normalization\", None),\n",
    "                  (\"Normalized confusion matrix\", 'true')]\n",
    "for title, normalize in titles_options:\n",
    "    disp = plot_confusion_matrix(classifier,X_test, y_test,\n",
    "                                 display_labels=np.unique(data[\"names\"]),\n",
    "                                 cmap=plt.cm.Blues,\n",
    "                                 normalize=normalize)\n",
    "    disp.ax_.set_title(title)\n",
    "\n",
    "    print(title)\n",
    "    print(disp.confusion_matrix)\n",
    "\n",
    "plt.show()\n",
    "\n",
    "\n",
    "y_pred = classifier.predict(X_test)\n",
    "print('Classification Report')\n",
    "target_names = np.unique(data[\"names\"])\n",
    "print(classification_report(y_test, y_pred, target_names=target_names))"
   ]
  },
  {
   "cell_type": "markdown",
   "metadata": {},
   "source": [
    "# Train KNN Classifier"
   ]
  },
  {
   "cell_type": "code",
   "execution_count": 8,
   "metadata": {},
   "outputs": [
    {
     "name": "stdout",
     "output_type": "stream",
     "text": [
      "Confusion matrix, without normalization\n",
      "[[1634   54]\n",
      " [  93 1991]]\n",
      "Normalized confusion matrix\n",
      "[[0.96800948 0.03199052]\n",
      " [0.04462572 0.95537428]]\n"
     ]
    },
    {
     "data": {
      "image/png": "[encoded data removed]",
      "text/plain": [
       "<Figure size 432x288 with 2 Axes>"
      ]
     },
     "metadata": {
      "needs_background": "light"
     },
     "output_type": "display_data"
    },
    {
     "data": {
      "image/png": "[encoded data removed]",
      "text/plain": [
       "<Figure size 432x288 with 2 Axes>"
      ]
     },
     "metadata": {
      "needs_background": "light"
     },
     "output_type": "display_data"
    },
    {
     "name": "stdout",
     "output_type": "stream",
     "text": [
      "Classification Report\n",
      "              precision    recall  f1-score   support\n",
      "\n",
      "    0-Normal       0.95      0.97      0.96      1688\n",
      "     1-Falla       0.97      0.96      0.96      2084\n",
      "\n",
      "    accuracy                           0.96      3772\n",
      "   macro avg       0.96      0.96      0.96      3772\n",
      "weighted avg       0.96      0.96      0.96      3772\n",
      "\n"
     ]
    }
   ],
   "source": [
    "KNN = KNeighborsClassifier(n_neighbors=1)\n",
    "KNN.fit(X_train, y_train)\n",
    "\n",
    "# Plot non-normalized confusion matrix\n",
    "titles_options = [(\"Confusion matrix, without normalization\", None),\n",
    "                  (\"Normalized confusion matrix\", 'true')]\n",
    "for title, normalize in titles_options:\n",
    "    disp = plot_confusion_matrix(KNN,X_test, y_test,\n",
    "                                 display_labels=np.unique(data[\"names\"]),\n",
    "                                 cmap=plt.cm.Blues,\n",
    "                                 normalize=normalize)\n",
    "    disp.ax_.set_title(title)\n",
    "\n",
    "    print(title)\n",
    "    print(disp.confusion_matrix)\n",
    "\n",
    "plt.show()\n",
    "\n",
    "y_pred = KNN.predict(X_test)\n",
    "print('Classification Report')\n",
    "target_names = np.unique(data[\"names\"])\n",
    "print(classification_report(y_test, y_pred, target_names=target_names))"
   ]
  },
  {
   "cell_type": "code",
   "execution_count": null,
   "metadata": {},
   "outputs": [],
   "source": []
  },
  {
   "cell_type": "code",
   "execution_count": 9,
   "metadata": {},
   "outputs": [],
   "source": [
    "classifier.fit(X_test, y_test)\n",
    "# write the actual face recognition model to disk\n",
    "f = open(output_recognizer, \"wb\")\n",
    "f.write(pickle.dumps(classifier))\n",
    "f.close()\n",
    "\n",
    "\n"
   ]
  },
  {
   "cell_type": "code",
   "execution_count": 14,
   "metadata": {},
   "outputs": [],
   "source": [
    "# load the actual face recognition model along with the label encoder\n",
    "recognizer = pickle.loads(open(output_recognizer, \"rb\").read())\n",
    "le = pickle.loads(open(output_label, \"rb\").read())"
   ]
  },
  {
   "cell_type": "code",
   "execution_count": null,
   "metadata": {},
   "outputs": [],
   "source": []
  },
  {
   "cell_type": "code",
   "execution_count": null,
   "metadata": {},
   "outputs": [],
   "source": []
  },
  {
   "cell_type": "code",
   "execution_count": null,
   "metadata": {},
   "outputs": [],
   "source": []
  },
  {
   "cell_type": "code",
   "execution_count": null,
   "metadata": {},
   "outputs": [],
   "source": []
  },
  {
   "cell_type": "code",
   "execution_count": null,
   "metadata": {},
   "outputs": [],
   "source": []
  }
 ],
 "metadata": {
  "kernelspec": {
   "display_name": "Python 3",
   "language": "python",
   "name": "python3"
  },
  "language_info": {
   "codemirror_mode": {
    "name": "ipython",
    "version": 3
   },
   "file_extension": ".py",
   "mimetype": "text/x-python",
   "name": "python",
   "nbconvert_exporter": "python",
   "pygments_lexer": "ipython3",
   "version": "3.7.7"
  }
 },
 "nbformat": 4,
 "nbformat_minor": 4
}
