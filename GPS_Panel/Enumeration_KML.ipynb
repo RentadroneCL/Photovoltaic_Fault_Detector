{
 "cells": [
  {
   "cell_type": "code",
   "execution_count": 159,
   "metadata": {},
   "outputs": [],
   "source": [
    "import numpy as np\n",
    "import matplotlib.pyplot as plt\n",
    "import pandas as pd\n",
    "from matplotlib import path\n",
    "import matplotlib.patches as patches\n",
    "from skimage import draw\n",
    "import scipy.ndimage as ndimage\n",
    "import Utils\n",
    "import georasters as gr\n",
    "import cv2\n",
    "from Utils import doubleMADsfromMedian\n",
    "from skimage.transform import resize\n",
    "import pickle\n",
    "import simplekml\n",
    "\n",
    "def order_rect(List_P_strings, top_bottom = False):\n",
    "    #If top_bottom is false then sort right left\n",
    "    if not top_bottom:\n",
    "        List_P_strings = [[(List_P[0][1],List_P[0][0]),\n",
    "                           (List_P[1][1],List_P[1][0]),\n",
    "                           (List_P[2][1],List_P[2][0]),\n",
    "                           (List_P[3][1],List_P[3][0])] for List_P in List_P_strings]\n",
    "    \n",
    "    bboxes=sorted(List_P_strings, key=lambda x: x[0][0])\n",
    "    bboxes = [(P[0][0], P[0][1], P[2][0]-P[0][0], P[2][1]-P[0][1]) for P in bboxes]\n",
    "    df=pd.DataFrame(bboxes, columns=['x','y','w', 'h'], dtype=int)\n",
    "    \n",
    "\n",
    "    df[\"x2\"] = df[\"x\"]+df[\"w\"] # adding column for x on the right side\n",
    "    df = df.sort_values([\"x\",\"y\", \"x2\"]) # sorting\n",
    "\n",
    "\n",
    "    for i in range(2): # change rows between each other by their coordinates several times \n",
    "    # to sort them completely \n",
    "        for ind in range(len(df)-1):\n",
    "        #     print(ind, df.iloc[ind][4] > df.iloc[ind+1][0])\n",
    "             if df.iloc[ind][4] > df.iloc[ind+1][0] and df.iloc[ind][1]> df.iloc[ind+1][1]:\n",
    "                df.iloc[ind], df.iloc[ind+1] = df.iloc[ind+1].copy(), df.iloc[ind].copy()\n",
    "            \n",
    "    L_F = [np.array([[box[0], box[1]], \n",
    "               [box[0] + box[2], box[1]], \n",
    "               [box[0] + box[2], box[1] + box[3]], \n",
    "               [box[0], box[1] + box[3]]]) for box in df.values.tolist()]\n",
    "    \n",
    "    if not top_bottom:\n",
    "        L_F = [[(List_P[0][1],List_P[0][0]),\n",
    "                           (List_P[1][1],List_P[1][0]),\n",
    "                           (List_P[2][1],List_P[2][0]),\n",
    "                           (List_P[3][1],List_P[3][0])] for List_P in L_F]\n",
    "    return np.array(L_F) "
   ]
  },
  {
   "cell_type": "markdown",
   "metadata": {},
   "source": [
    "# Parameters"
   ]
  },
  {
   "cell_type": "code",
   "execution_count": 221,
   "metadata": {},
   "outputs": [],
   "source": [
    "#path_T = \"Thermo.tif\"\n",
    "#path_String = \"Thermo_String_PV01.tif\"\n",
    "\n",
    "path_T = \"Los_Loros/TH_02_index_thermal_ir.tif\"\n",
    "path_String = \"Los_Loros/Raster_Test.tif\"\n",
    "ZonaPV = 'Test'\n",
    "path_kml_panel = 'Los_Loros/KML/Paneles_' + ZonaPV +'.kml'\n",
    "path_kml_mesa ='Los_Loros/KML/Mesa_' + ZonaPV +'.kml'\n",
    "path_dict = 'Los_Loros/KML/Mesa_' + ZonaPV + '.pickle'\n",
    "\n",
    "#panel_size = (11 , 21)\n",
    "#panel_size = (37 , 17) #weight, height size#\n",
    "#panel_size = (20 , 35)\n",
    "\n",
    "split_Weight, split_Height = (10,2)\n",
    "overlap = -0.005\n",
    "order_top_bottom = False # order top bottom or right left\n",
    "\n",
    "\n",
    "GR_String = gr.from_file(path_String)\n",
    "GR_T = gr.from_file(path_T)\n"
   ]
  },
  {
   "cell_type": "markdown",
   "metadata": {},
   "source": [
    "# Enumerate Tables and Panels"
   ]
  },
  {
   "cell_type": "code",
   "execution_count": 222,
   "metadata": {},
   "outputs": [],
   "source": [
    "\n",
    "label_im, nb_labels = ndimage.label(GR_String.raster.data > 0)#, structure= np.ones((2,2))) ## Label each connect region\n",
    "\n",
    "        \n",
    "L_strings = {} # {name: '001', points:(top-left, top-right, bottom-right, bottom-left) (x,y), 'panels' : }\n",
    "\n",
    "epsilon = 0\n",
    "\n",
    "List_P_strings = []\n",
    "for i in range(1, nb_labels + 1):\n",
    "    \n",
    "    countours, hierarchy = cv2.findContours(np.uint8(label_im == i), cv2.RETR_TREE, cv2.CHAIN_APPROX_SIMPLE)\n",
    "    x_max = np.max(countours[0][:, 0, 0]) + epsilon\n",
    "    y_max = np.max(countours[0][:, 0, 1]) + epsilon\n",
    "    x_min = np.min(countours[0][:, 0, 0]) - epsilon\n",
    "    y_min = np.min(countours[0][:, 0, 1]) - epsilon\n",
    "    \n",
    "    List_P_strings.append([(x_min, y_min), (x_max, y_min), (x_max, y_max), (x_min, y_max)])\n",
    "\n",
    "    \n",
    "for i,List_P in enumerate(order_rect(List_P_strings, top_bottom=order_top_bottom), 1):\n",
    "    \n",
    "    L_strings[str(i)] = {'id': i, \n",
    "                         'points' : List_P, \n",
    "                         'panels' : {}, \n",
    "                         'status': 'default', \n",
    "                         'T': np.mean(GR_T.raster.data[List_P[0][1]:List_P[2][1],List_P[0][0]:List_P[2][0]])}\n",
    "\n",
    "for string_key in L_strings.keys():\n",
    "    \n",
    "    string = L_strings[string_key]\n",
    "    string['panels'] = {}\n",
    "    Points = Utils.order_points_rect(string['points']).astype(np.int)\n",
    "    \n",
    "    ## If strings is vertical or horizontal\n",
    "    #if (Points[2][0] - Points[0][0]) > (Points[2][1] - Points[0][1]):\n",
    "    #    split_Weight, split_Height = np.int((Points[2][0] - Points[0][0]) / panel_size[0]) , np.int((Points[2][1] - Points[0][1]) / panel_size[1])\n",
    "    #else:\n",
    "    #    split_Weight, split_Height = np.int((Points[2][0] - Points[0][0]) / panel_size[1]) , np.int((Points[2][1] - Points[0][1]) / panel_size[0])\n",
    "\n",
    "    #split_Weight = max(split_Weight, 1)\n",
    "    #split_Height = max(split_Height, 1)\n",
    "    M, maxWidth, maxHeight = Utils.perspectiveTransform(Points)\n",
    "    sub_division = Utils.subdivision_rect([split_Weight, split_Height], maxWidth, maxHeight, overlap)\n",
    "    sub_division_origin = np.uint(cv2.perspectiveTransform(np.array(sub_division), np.linalg.inv(M)))\n",
    "    \n",
    "    for i,panels_coord in enumerate(order_rect(sub_division_origin, order_top_bottom),1):\n",
    "        string['panels'][str(i)] = {'id' : i,\n",
    "                                    'points' : panels_coord,\n",
    "                                    'status': 'default', \n",
    "                                    'T' : np.mean(GR_T.raster.data[panels_coord[0][1]:panels_coord[2][1], panels_coord[0][0]:panels_coord[2][0]]),\n",
    "                                    'severidad': 'default'}    \n"
   ]
  },
  {
   "cell_type": "markdown",
   "metadata": {},
   "source": [
    "# Save dictionary with gps data"
   ]
  },
  {
   "cell_type": "code",
   "execution_count": 223,
   "metadata": {},
   "outputs": [],
   "source": [
    "## Save List in coordinate latitud and longitude ###\n",
    "geot = GR_String.geot\n",
    "L_strings_coord = {}\n",
    "           \n",
    "for string_key in L_strings.keys():\n",
    "    \n",
    "    string = L_strings[string_key]\n",
    "    points = string['points']\n",
    "    string_coord = {'id': 'Mesa_' + str(string['id']).zfill(3), \n",
    "                    'points': Utils.pixel2gps(points, geot), \n",
    "                    'panels': {}, \n",
    "                    'status': string['status'], \n",
    "                    'T' : string['T']}\n",
    "    \n",
    "    for panel_key in string['panels'].keys():\n",
    "           \n",
    "        panel = string['panels'][panel_key]\n",
    "        points = panel['points']\n",
    "        panel_coord = {'id': panel['id'],\n",
    "                       'points': Utils.pixel2gps(points, geot), \n",
    "                       'status': panel['status'], \n",
    "                       'prob': 0.0, \n",
    "                       'T': panel['T'],  \n",
    "                       'severidad': 'default'}\n",
    "        \n",
    "        string_coord['panels'][panel_key] = panel_coord\n",
    "        \n",
    "    L_strings_coord[string_key] = string_coord\n",
    "\n"
   ]
  },
  {
   "cell_type": "markdown",
   "metadata": {},
   "source": [
    "# Display image"
   ]
  },
  {
   "cell_type": "code",
   "execution_count": 224,
   "metadata": {
    "scrolled": true
   },
   "outputs": [
    {
     "data": {
      "text/plain": [
       "<Figure size 432x288 with 0 Axes>"
      ]
     },
     "metadata": {},
     "output_type": "display_data"
    },
    {
     "data": {
      "image/png": "[encoded data removed]",
      "text/plain": [
       "<Figure size 1152x1152 with 1 Axes>"
      ]
     },
     "metadata": {
      "needs_background": "light"
     },
     "output_type": "display_data"
    },
    {
     "data": {
      "image/png": "[encoded data removed]",
      "text/plain": [
       "<Figure size 1152x1152 with 1 Axes>"
      ]
     },
     "metadata": {
      "needs_background": "light"
     },
     "output_type": "display_data"
    }
   ],
   "source": [
    "## Load List in coordinate latitud and longitude  to pixels ###\n",
    "string = L_strings_coord['3']\n",
    "panels = string['panels']\n",
    "\n",
    "\n",
    "epsilon = 0\n",
    "matrix_expand_bounds = [[-epsilon, -epsilon],[+epsilon, -epsilon], [+epsilon, +epsilon], [-epsilon, +epsilon]]\n",
    "\n",
    "#geot = GR_RGB.geot\n",
    "geot = GR_T.geot\n",
    "geot_S = GR_String.geot\n",
    "\n",
    "\n",
    "Points = Utils.gps2pixel(string['points'], geot) + matrix_expand_bounds\n",
    "\n",
    "\n",
    "\n",
    "plt.figure(0)\n",
    "plt.figure(figsize=(16, 16))\n",
    "plt.imshow(GR_String.raster.data)\n",
    "plt.title('Origin Image')\n",
    "ax = plt.gca()\n",
    "\n",
    "for Poly_key in L_strings_coord.keys():\n",
    "    \n",
    "    Poly = L_strings_coord[Poly_key]\n",
    "    poly = patches.Polygon(Utils.gps2pixel(Poly['points'],geot_S),\n",
    "                     linewidth=2,\n",
    "                     edgecolor='red',\n",
    "                     alpha=0.5,\n",
    "                     fill = True)\n",
    "    plt.text(np.mean([x[0]  for x in Utils.gps2pixel(Poly['points'],geot_S)]), \n",
    "             np.mean([y[1]  for y in Utils.gps2pixel(Poly['points'],geot_S)]) , \n",
    "             str(Poly['id']).split('_')[-1],  bbox=dict(facecolor='red', alpha=0.8), fontsize=10)\n",
    "\n",
    "    ax.add_patch(poly)\n",
    "    \n",
    "plt.figure(1)\n",
    "plt.figure(figsize=(16, 16))\n",
    "#plt.imshow(GR_T.raster[0,Points[0][1] : Points[2][1], Points[0][0]: Points[2][0]])\n",
    "plt.imshow(GR_T.raster[Points[0][1] : Points[2][1], Points[0][0]: Points[2][0]])\n",
    "#plt.imshow((GR_RGB.raster[:3,:,:]).transpose((1, 2, 0))[Points[0][1] : Points[2][1], Points[0][0]: Points[2][0],:])\n",
    "\n",
    "plt.title('Subdive Origin Image')\n",
    "ax = plt.gca()\n",
    "\n",
    "for Poly_key in panels.keys():\n",
    "    \n",
    "    Poly = panels[Poly_key]\n",
    "    poly = patches.Polygon(Utils.gps2pixel(Poly['points'],geot) - (Points[0][0], Points[0][1]),\n",
    "                     linewidth=2,\n",
    "                     edgecolor='red',\n",
    "                     fill = False)\n",
    "    plt.text(np.mean([x[0]  for x in Utils.gps2pixel(Poly['points'],geot) - (Points[0][0], Points[0][1])]), np.mean([y[1]  for y in Utils.gps2pixel(Poly['points'],geot) - (Points[0][0], Points[0][1])]) , \n",
    "             str(Poly['id']),  bbox=dict(facecolor='red', alpha=0.0), fontsize=8)\n",
    "\n",
    "    ax.add_patch(poly)"
   ]
  },
  {
   "cell_type": "markdown",
   "metadata": {},
   "source": [
    "# Save KML"
   ]
  },
  {
   "cell_type": "code",
   "execution_count": 225,
   "metadata": {},
   "outputs": [
    {
     "name": "stdout",
     "output_type": "stream",
     "text": [
      "Listo\n"
     ]
    }
   ],
   "source": [
    "\n",
    "## Save List in coordinate latitud and longitude ###\n",
    "with open(path_dict, 'wb') as handle:\n",
    "    pickle.dump(L_strings_coord, handle, protocol=pickle.HIGHEST_PROTOCOL)\n",
    "\n",
    "## Load List in coordinate latitud and longitude ###\n",
    "with open(path_dict, \"rb\") as fp:\n",
    "    L_strings_coord = pickle.load(fp)\n",
    "\n",
    "kml=simplekml.Kml()\n",
    "\n",
    "\n",
    "for string_key in L_strings_coord.keys():\n",
    "    \n",
    "    string = L_strings_coord[string_key]\n",
    "    points = string['points']\n",
    "    \n",
    "    pmt = kml.newpolygon(name= string['id'], \n",
    "                         outerboundaryis = points)\n",
    "    pmt.extendeddata.newdata(name='Mesa', value=string['id'])\n",
    "    pmt.extendeddata.newdata(name= 'T°', value= string['T'])\n",
    "    \n",
    "kml.save(path_kml_mesa)\n",
    "\n",
    "\n",
    "kml=simplekml.Kml()\n",
    "\n",
    "\n",
    "for string_key in L_strings_coord.keys():\n",
    "    \n",
    "    string = L_strings_coord[string_key]\n",
    "    points = string['points']\n",
    "    \n",
    "    for panel_key in string['panels'].keys():\n",
    "        panel = string['panels'][panel_key]\n",
    "        points = panel['points']\n",
    "        \n",
    "        pmt = kml.newpolygon(outerboundaryis = points)\n",
    "        pmt.extendeddata.newdata(name= 'Id integer', value= str(string_key).zfill(3) + '_' + str(panel['id']).zfill(3))\n",
    "        pmt.extendeddata.newdata(name= 'Id panel', value= str(panel['id']).zfill(3))\n",
    "        pmt.extendeddata.newdata(name='Zona PV', value= ZonaPV)\n",
    "        pmt.extendeddata.newdata(name='Cód. Fall', value= 0)\n",
    "        pmt.extendeddata.newdata(name= 'Tipo falla', value= panel['status'])\n",
    "        pmt.extendeddata.newdata(name= 'Mesa', value= string['id'])\n",
    "        pmt.extendeddata.newdata(name= 'T°', value= panel['T'])\n",
    "        \n",
    "kml.save(path_kml_panel)\n",
    "print('Listo')"
   ]
  },
  {
   "cell_type": "code",
   "execution_count": null,
   "metadata": {},
   "outputs": [],
   "source": []
  },
  {
   "cell_type": "code",
   "execution_count": null,
   "metadata": {},
   "outputs": [],
   "source": []
  }
 ],
 "metadata": {
  "kernelspec": {
   "display_name": "Python 3",
   "language": "python",
   "name": "python3"
  },
  "language_info": {
   "codemirror_mode": {
    "name": "ipython",
    "version": 3
   },
   "file_extension": ".py",
   "mimetype": "text/x-python",
   "name": "python",
   "nbconvert_exporter": "python",
   "pygments_lexer": "ipython3",
   "version": "3.7.7"
  }
 },
 "nbformat": 4,
 "nbformat_minor": 4
}
