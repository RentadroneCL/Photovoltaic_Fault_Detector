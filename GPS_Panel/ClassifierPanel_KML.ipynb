{
 "cells": [
  {
   "cell_type": "code",
   "execution_count": 2,
   "metadata": {},
   "outputs": [
    {
     "name": "stderr",
     "output_type": "stream",
     "text": [
      "/home/dlsaavedra/anaconda3/envs/new/lib/python3.7/site-packages/pysal/explore/segregation/network/network.py:16: UserWarning: You need pandana and urbanaccess to work with segregation's network module\n",
      "You can install them with  `pip install urbanaccess pandana` or `conda install -c udst pandana urbanaccess`\n",
      "  \"You need pandana and urbanaccess to work with segregation's network module\\n\"\n",
      "/home/dlsaavedra/anaconda3/envs/new/lib/python3.7/site-packages/pysal/model/spvcm/abstracts.py:10: UserWarning: The `dill` module is required to use the sqlite backend fully.\n",
      "  from .sqlite import head_to_sql, start_sql\n"
     ]
    }
   ],
   "source": [
    "import numpy as np\n",
    "import matplotlib.pyplot as plt\n",
    "import pandas as pd\n",
    "from matplotlib import path\n",
    "import matplotlib.patches as patches\n",
    "from skimage import draw\n",
    "import scipy.ndimage as ndimage\n",
    "import Utils\n",
    "import georasters as gr\n",
    "import cv2\n",
    "from Utils import doubleMADsfromMedian\n",
    "from skimage.transform import resize\n",
    "import pickle\n",
    "import simplekml\n",
    "\n",
    "from sklearn.preprocessing import LabelEncoder\n",
    "from sklearn.svm import SVC\n",
    "from sklearn.neighbors import KNeighborsClassifier\n",
    "import time\n",
    "import tensorflow as tf\n",
    "\n",
    "\n",
    "def classifier(base_model, recognizer, labels, image_input):\n",
    "    weight, height, dim = base_model.input.shape[1], base_model.input.shape[2], base_model.input.shape[3]\n",
    "    Im_resize = cv2.resize(image_input, (weight, height), interpolation = cv2.INTER_AREA)\n",
    "    vec = base_model.predict(tf.keras.backend.expand_dims(Im_resize,0)).flatten()\n",
    "    prob = recognizer.predict_proba([vec])[0]\n",
    "    return labels.classes_[np.argmax(prob)], prob[np.argmax(prob)]\n",
    "    "
   ]
  },
  {
   "cell_type": "markdown",
   "metadata": {},
   "source": [
    "# Parameters"
   ]
  },
  {
   "cell_type": "code",
   "execution_count": 3,
   "metadata": {},
   "outputs": [],
   "source": [
    "path_T = \"Los_Loros/TH_02_index_thermal_ir.tif\"\n",
    "path_String = \"Los_Loros/Raster_Test.tif\"\n",
    "ZonaPV = 'Test'\n",
    "path_kml_panel = 'Los_Loros/KML/Paneles_' + ZonaPV +'.kml'\n",
    "path_kml_mesa ='Los_Loros/KML/Mesa_' + ZonaPV +'.kml'\n",
    "path_dict = 'Los_Loros/KML/Mesa_' + ZonaPV + '.pickle'\n",
    "path_new_dict = 'Los_Loros/KML/Mesa_' + ZonaPV + '_classifier.pickle'\n",
    "\n",
    "\n",
    "GR_String = gr.from_file(path_String)\n",
    "GR_T = gr.from_file(path_T)\n",
    "geot_T = GR_T.geot\n",
    "## Load List in coordinate latitud and longitude ###\n",
    "with open(path_dict, \"rb\") as fp:\n",
    "    L_strings_coord = pickle.load(fp)"
   ]
  },
  {
   "cell_type": "markdown",
   "metadata": {},
   "source": [
    "# Load Classifier"
   ]
  },
  {
   "cell_type": "code",
   "execution_count": 4,
   "metadata": {},
   "outputs": [],
   "source": [
    "path_dataset = './Classifier/Data_set_2/Data_prueba_0/' \n",
    "output_recognizer = path_dataset + \"model_SVM/recognizer.pickle\"\n",
    "output_label = path_dataset + \"model_SVM/le.pickle\"\n",
    "\n",
    "\n",
    "img_width, img_height = 224, 224\n",
    "base_model = tf.keras.applications.Xception(input_shape=(img_height, img_width, 3), weights='imagenet', include_top=False)\n",
    "\n",
    "x = base_model.output\n",
    "x  = tf.keras.layers.GlobalAveragePooling2D()(x)\n",
    "base_model = tf.keras.models.Model(inputs=base_model.input, outputs=x)\n",
    "recognizer_SVM = pickle.loads(open(output_recognizer, \"rb\").read())\n",
    "le = pickle.loads(open(output_label, \"rb\").read())"
   ]
  },
  {
   "cell_type": "markdown",
   "metadata": {},
   "source": [
    "# Classifier each panel"
   ]
  },
  {
   "cell_type": "code",
   "execution_count": 8,
   "metadata": {},
   "outputs": [
    {
     "name": "stdout",
     "output_type": "stream",
     "text": [
      "1\n",
      "2\n",
      "3\n",
      "4\n",
      "5\n",
      "6\n",
      "7\n",
      "8\n"
     ]
    },
    {
     "data": {
      "text/plain": [
       "<matplotlib.image.AxesImage at 0x7f1bb41e4b90>"
      ]
     },
     "execution_count": 8,
     "metadata": {},
     "output_type": "execute_result"
    },
    {
     "data": {
      "image/png": "[encoded data removed]",
      "text/plain": [
       "<Figure size 432x432 with 1 Axes>"
      ]
     },
     "metadata": {
      "needs_background": "light"
     },
     "output_type": "display_data"
    }
   ],
   "source": [
    "\n",
    "epsilon = -2\n",
    "matrix_expand_bounds = [[-epsilon, -epsilon],[+epsilon, -epsilon], [+epsilon, +epsilon], [-epsilon, +epsilon]]\n",
    "\n",
    "for string_key in L_strings_coord.keys():\n",
    "    print(string_key)\n",
    "    string = L_strings_coord[string_key]\n",
    "    for panel_key in string['panels'].keys():\n",
    "        panel = string['panels'][panel_key]\n",
    "        Points =  Utils.gps2pixel(panel['points'], geot_T) + matrix_expand_bounds\n",
    "        \n",
    "        if not GR_T.raster.data[Points[0][1] : Points[2][1], Points[0][0]: Points[2][0]].size == 0:\n",
    "            Im = np.zeros((img_height, img_width, 3))\n",
    "            Im[:,:,0] = cv2.resize(GR_T.raster.data[Points[0][1] : Points[2][1], Points[0][0]: Points[2][0]], (img_width, img_height))\n",
    "            Im[:,:,1] = Im[:,:,0].copy()\n",
    "            Im[:,:,2] = Im[:,:,0].copy()\n",
    "            panel['status'], panel['prob'] = classifier(base_model, recognizer_SVM, le, Im)\n",
    "        else:\n",
    "            print('problem with coords panel: ', string_key, '_', panel_key)\n",
    "\n",
    "plt.figure(figsize=(6, 6))\n",
    "plt.imshow(Im)"
   ]
  },
  {
   "cell_type": "code",
   "execution_count": 14,
   "metadata": {},
   "outputs": [
    {
     "data": {
      "text/plain": [
       "<matplotlib.image.AxesImage at 0x7f1bb41cbb10>"
      ]
     },
     "execution_count": 14,
     "metadata": {},
     "output_type": "execute_result"
    },
    {
     "data": {
      "image/png": "[encoded data removed]",
      "text/plain": [
       "<Figure size 432x432 with 1 Axes>"
      ]
     },
     "metadata": {
      "needs_background": "light"
     },
     "output_type": "display_data"
    }
   ],
   "source": [
    "epsilon = 10\n",
    "matrix_expand_bounds = [[-epsilon, -epsilon],[+epsilon, -epsilon], [+epsilon, +epsilon], [-epsilon, +epsilon]]\n",
    "\n",
    "\n",
    "panel = string['panels']['2']\n",
    "Points =  Utils.gps2pixel(panel['points'], geot_T) + matrix_expand_bounds\n",
    "plt.figure(figsize=(6, 6))\n",
    "plt.imshow(GR_T.raster.data[Points[0][1] : Points[2][1], Points[0][0]: Points[2][0]],cmap = 'gray')\n"
   ]
  },
  {
   "cell_type": "code",
   "execution_count": null,
   "metadata": {},
   "outputs": [],
   "source": []
  },
  {
   "cell_type": "markdown",
   "metadata": {},
   "source": [
    "# Save KML Panels"
   ]
  },
  {
   "cell_type": "code",
   "execution_count": 22,
   "metadata": {},
   "outputs": [
    {
     "name": "stdout",
     "output_type": "stream",
     "text": [
      "Listo\n"
     ]
    }
   ],
   "source": [
    "\n",
    "kml=simplekml.Kml()\n",
    "\n",
    "\n",
    "for string_key in L_strings_coord.keys():\n",
    "    \n",
    "    string = L_strings_coord[string_key]\n",
    "    points = string['points']\n",
    "    \n",
    "    for panel_key in string['panels'].keys():\n",
    "        panel = string['panels'][panel_key]\n",
    "        points = panel['points']\n",
    "        \n",
    "        pmt = kml.newpolygon(outerboundaryis = points)\n",
    "        pmt.extendeddata.newdata(name= 'Id integer', value= str(string_key).zfill(3) + '_' + str(panel['id']).zfill(3))\n",
    "        pmt.extendeddata.newdata(name= 'Id panel', value= str(panel['id']).zfill(3))\n",
    "        pmt.extendeddata.newdata(name='Zona PV', value= ZonaPV)\n",
    "        pmt.extendeddata.newdata(name='Cód. Fall', value= 0)\n",
    "        pmt.extendeddata.newdata(name= 'Tipo falla', value= panel['status'])\n",
    "        pmt.extendeddata.newdata(name= 'Mesa', value= string['id'])\n",
    "        pmt.extendeddata.newdata(name= 'T°', value= panel['T'])\n",
    "        \n",
    "kml.save(path_kml_panel)\n",
    "## Save List in coordinate latitud and longitude ###\n",
    "with open(path_new_dict, 'wb') as handle:\n",
    "    pickle.dump(L_strings_coord, handle, protocol=pickle.HIGHEST_PROTOCOL)\n",
    "print('Listo')"
   ]
  },
  {
   "cell_type": "code",
   "execution_count": null,
   "metadata": {},
   "outputs": [],
   "source": []
  },
  {
   "cell_type": "code",
   "execution_count": null,
   "metadata": {},
   "outputs": [],
   "source": []
  },
  {
   "cell_type": "code",
   "execution_count": 21,
   "metadata": {},
   "outputs": [
    {
     "data": {
      "text/plain": [
       "<matplotlib.image.AxesImage at 0x7f1ba07d3a90>"
      ]
     },
     "execution_count": 21,
     "metadata": {},
     "output_type": "execute_result"
    },
    {
     "data": {
      "image/png": "[encoded data removed]",
      "text/plain": [
       "<Figure size 432x288 with 1 Axes>"
      ]
     },
     "metadata": {
      "needs_background": "light"
     },
     "output_type": "display_data"
    }
   ],
   "source": [
    "plt.imshow(GR_T.raster.data[Points[0][1] : Points[2][1], Points[0][0]: Points[2][0]].astype(int), cmap = 'gray')"
   ]
  },
  {
   "cell_type": "code",
   "execution_count": null,
   "metadata": {},
   "outputs": [],
   "source": []
  },
  {
   "cell_type": "code",
   "execution_count": null,
   "metadata": {},
   "outputs": [],
   "source": []
  },
  {
   "cell_type": "code",
   "execution_count": null,
   "metadata": {},
   "outputs": [],
   "source": []
  },
  {
   "cell_type": "code",
   "execution_count": null,
   "metadata": {},
   "outputs": [],
   "source": []
  },
  {
   "cell_type": "code",
   "execution_count": null,
   "metadata": {},
   "outputs": [],
   "source": []
  }
 ],
 "metadata": {
  "kernelspec": {
   "display_name": "Python 3",
   "language": "python",
   "name": "python3"
  },
  "language_info": {
   "codemirror_mode": {
    "name": "ipython",
    "version": 3
   },
   "file_extension": ".py",
   "mimetype": "text/x-python",
   "name": "python",
   "nbconvert_exporter": "python",
   "pygments_lexer": "ipython3",
   "version": "3.7.7"
  }
 },
 "nbformat": 4,
 "nbformat_minor": 4
}
