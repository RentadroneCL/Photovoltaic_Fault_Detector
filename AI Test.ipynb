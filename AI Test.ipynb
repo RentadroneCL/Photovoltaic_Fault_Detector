{
 "cells": [
  {
   "cell_type": "markdown",
   "metadata": {},
   "source": [
    "# Prueba de conocimientos de Aprendizaje Automatizado"
   ]
  },
  {
   "cell_type": "markdown",
   "metadata": {},
   "source": [
    "# Contexto\n",
    "\n",
    "Esta prueba se centra en los aspectos fundamentales requeridos para la vacante disponible actualmente. la seleccion del dataset es en principio una aproximacion de los requerimientos actuales, ya que mas adelante iran aumentando en complejidad los casos a resolver, con esto se busca evaluar cada una de las habilidades y destrezas que la organizacion requiere actualmente, cualquier duda o consulta puede ser canalizada por correo electronico."
   ]
  },
  {
   "cell_type": "markdown",
   "metadata": {},
   "source": [
    "### Descripción\n",
    "\n",
    "Prueba de conocimientos generales de Aprendizaje Automatizado (Machine Learning/Deep Learning).\n",
    "\n",
    "### Plazo\n",
    "\n",
    "1 semana a partir de la recepción de la misma.\n",
    "\n",
    "### Metodología\n",
    "\n",
    "* Sera necesario clonar este repositorio en su cuenta de [**GitHub**](https://github.com) y agregarnos como colaboradores para asi poder ver los avances y hacer revisiones.\n",
    "* El modelo que se desarrolle debe estar documentado de forma procedimental en un jupyter notebook como este, puede hacer uso del mismo para la prueba o crear uno nuevo si asi gusta.\n",
    "* Para agilizar el proceso de evaluacion debe seguir los pasos sugeridos en el apartado **Fuentes de datos.**\n",
    "* Evaluar el rendimiento del modelo desarrollado y hacer predicciones con el mismo con imagenes que no esten contenidas dentro del dataset.\n",
    "* El modelo debe ser capaz de clasificar una imagen de prueba, asignandole una de las clases previamente definida con su grado de confianza, y resaltando la region de interes con un bounding box."
   ]
  },
  {
   "cell_type": "markdown",
   "metadata": {},
   "source": [
    "### Dataset\n",
    "\n",
    "El dataset esta disponible en el siguiente enlace [dataset](https://drive.google.com/open?id=1iBrQQaKT7SGKP77FWvt_zqJEoAvs0vgh)\n",
    "\n",
    "Las imágenes estan en formato .png o .jpg. Hay tres conjuntos de imagenes de un total de 1364.\n",
    "\n",
    "### Etiquetas\n",
    "\n",
    "Los datos consisten en dos clases de células no infectadas (eritrocitos y leucocitos) y cuatro clases de celulas infectadas (gametocitos, anillos, trofozoitos y esquizontes).\n",
    "\n",
    "Se proporciono una etiqueta de clase y un conjunto de coordenadas de cuadro delimitador para cada celda. Para todos los conjuntos de datos."
   ]
  },
  {
   "cell_type": "markdown",
   "metadata": {},
   "source": [
    "# Fuentes de datos\n",
    "\n",
    "Para agilizar el proceso de evaluacion, es necesario informar el estado actual de la asignacion enfoncandose en los siguientes aspectos.\n",
    "\n",
    "- Estadísticas\n",
    "    * Estadísticas de resumen para cada atributo en los datos de entrada y salida.\n",
    "    * Mostrar en gráficos para ayudar a comprender los datos rápidamente e identificar irregularidades o errores.\n",
    "    \n",
    "- Estado\n",
    "    * Indica el estado actual del origen de datos, como, In Progress (En curso), Completed (Completado) o Failed (Error)."
   ]
  },
  {
   "cell_type": "markdown",
   "metadata": {},
   "source": [
    "*Happy Coding*"
   ]
  }
 ],
 "metadata": {
  "kernelspec": {
   "display_name": "Python 3",
   "language": "python",
   "name": "python3"
  },
  "language_info": {
   "codemirror_mode": {
    "name": "ipython",
    "version": 3
   },
   "file_extension": ".py",
   "mimetype": "text/x-python",
   "name": "python",
   "nbconvert_exporter": "python",
   "pygments_lexer": "ipython3",
   "version": "3.7.3"
  }
 },
 "nbformat": 4,
 "nbformat_minor": 2
}
